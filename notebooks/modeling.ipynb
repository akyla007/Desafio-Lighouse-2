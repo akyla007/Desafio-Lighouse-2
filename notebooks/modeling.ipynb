{
 "cells": [
  {
   "cell_type": "code",
   "execution_count": 21,
   "metadata": {},
   "outputs": [],
   "source": [
    "import pandas as pd\n",
    "import numpy as np\n",
    "import seaborn as sns\n",
    "import matplotlib.pyplot as plt\n",
    "from sklearn.model_selection import train_test_split\n",
    "import pickle\n",
    "from sklearn.linear_model import LinearRegression\n",
    "from sklearn.ensemble import RandomForestRegressor\n",
    "from sklearn.ensemble import RandomForestClassifier\n",
    "from sklearn.linear_model import LogisticRegression\n",
    "import xgboost as xgb\n",
    "from sklearn.metrics import mean_absolute_error, mean_squared_error, r2_score\n",
    "from sklearn.metrics import accuracy_score, classification_report, confusion_matrix"
   ]
  },
  {
   "cell_type": "code",
   "execution_count": 22,
   "metadata": {},
   "outputs": [],
   "source": [
    "df = pd.read_csv('../src/data/gold/teste_indicium_precificacao_OHE.csv')\n",
    "data = df.copy()"
   ]
  },
  {
   "cell_type": "markdown",
   "metadata": {},
   "source": [
    "# Precisamos entender nossa variável alvo e como os dados se organizam no nosso dataset"
   ]
  },
  {
   "cell_type": "code",
   "execution_count": 23,
   "metadata": {},
   "outputs": [
    {
     "data": {
      "text/html": [
       "<div>\n",
       "<style scoped>\n",
       "    .dataframe tbody tr th:only-of-type {\n",
       "        vertical-align: middle;\n",
       "    }\n",
       "\n",
       "    .dataframe tbody tr th {\n",
       "        vertical-align: top;\n",
       "    }\n",
       "\n",
       "    .dataframe thead th {\n",
       "        text-align: right;\n",
       "    }\n",
       "</style>\n",
       "<table border=\"1\" class=\"dataframe\">\n",
       "  <thead>\n",
       "    <tr style=\"text-align: right;\">\n",
       "      <th></th>\n",
       "      <th>host_id</th>\n",
       "      <th>latitude</th>\n",
       "      <th>longitude</th>\n",
       "      <th>price</th>\n",
       "      <th>minimo_noites</th>\n",
       "      <th>numero_de_reviews</th>\n",
       "      <th>reviews_por_mes</th>\n",
       "      <th>calculado_host_listings_count</th>\n",
       "      <th>disponibilidade_365</th>\n",
       "      <th>media_bairro</th>\n",
       "      <th>bairro_group__Bronx</th>\n",
       "      <th>bairro_group__Brooklyn</th>\n",
       "      <th>bairro_group__Manhattan</th>\n",
       "      <th>bairro_group__Queens</th>\n",
       "      <th>bairro_group__Staten Island</th>\n",
       "      <th>room_type__Entire home/apt</th>\n",
       "      <th>room_type__Private room</th>\n",
       "      <th>room_type__Shared room</th>\n",
       "    </tr>\n",
       "  </thead>\n",
       "  <tbody>\n",
       "    <tr>\n",
       "      <th>count</th>\n",
       "      <td>4.889400e+04</td>\n",
       "      <td>48894.000000</td>\n",
       "      <td>48894.000000</td>\n",
       "      <td>48894.000000</td>\n",
       "      <td>48894.000000</td>\n",
       "      <td>48894.000000</td>\n",
       "      <td>48894.000000</td>\n",
       "      <td>48894.000000</td>\n",
       "      <td>48894.000000</td>\n",
       "      <td>48894.000000</td>\n",
       "      <td>48894.000000</td>\n",
       "      <td>48894.000000</td>\n",
       "      <td>48894.000000</td>\n",
       "      <td>48894.000000</td>\n",
       "      <td>48894.000000</td>\n",
       "      <td>48894.000000</td>\n",
       "      <td>48894.000000</td>\n",
       "      <td>48894.000000</td>\n",
       "    </tr>\n",
       "    <tr>\n",
       "      <th>mean</th>\n",
       "      <td>6.762139e+07</td>\n",
       "      <td>40.728951</td>\n",
       "      <td>-73.952169</td>\n",
       "      <td>152.720763</td>\n",
       "      <td>7.030085</td>\n",
       "      <td>23.274758</td>\n",
       "      <td>1.090928</td>\n",
       "      <td>7.144005</td>\n",
       "      <td>112.776169</td>\n",
       "      <td>152.720763</td>\n",
       "      <td>0.022314</td>\n",
       "      <td>0.411155</td>\n",
       "      <td>0.443020</td>\n",
       "      <td>0.115883</td>\n",
       "      <td>0.007629</td>\n",
       "      <td>0.519675</td>\n",
       "      <td>0.456600</td>\n",
       "      <td>0.023725</td>\n",
       "    </tr>\n",
       "    <tr>\n",
       "      <th>std</th>\n",
       "      <td>7.861118e+07</td>\n",
       "      <td>0.054529</td>\n",
       "      <td>0.046157</td>\n",
       "      <td>240.156625</td>\n",
       "      <td>20.510741</td>\n",
       "      <td>44.550991</td>\n",
       "      <td>1.597294</td>\n",
       "      <td>32.952855</td>\n",
       "      <td>131.618692</td>\n",
       "      <td>62.297599</td>\n",
       "      <td>0.147703</td>\n",
       "      <td>0.492048</td>\n",
       "      <td>0.496748</td>\n",
       "      <td>0.320088</td>\n",
       "      <td>0.087010</td>\n",
       "      <td>0.499618</td>\n",
       "      <td>0.498118</td>\n",
       "      <td>0.152192</td>\n",
       "    </tr>\n",
       "    <tr>\n",
       "      <th>min</th>\n",
       "      <td>2.438000e+03</td>\n",
       "      <td>40.499790</td>\n",
       "      <td>-74.244420</td>\n",
       "      <td>0.000000</td>\n",
       "      <td>1.000000</td>\n",
       "      <td>0.000000</td>\n",
       "      <td>0.000000</td>\n",
       "      <td>1.000000</td>\n",
       "      <td>0.000000</td>\n",
       "      <td>47.333333</td>\n",
       "      <td>0.000000</td>\n",
       "      <td>0.000000</td>\n",
       "      <td>0.000000</td>\n",
       "      <td>0.000000</td>\n",
       "      <td>0.000000</td>\n",
       "      <td>0.000000</td>\n",
       "      <td>0.000000</td>\n",
       "      <td>0.000000</td>\n",
       "    </tr>\n",
       "    <tr>\n",
       "      <th>25%</th>\n",
       "      <td>7.822737e+06</td>\n",
       "      <td>40.690100</td>\n",
       "      <td>-73.983070</td>\n",
       "      <td>69.000000</td>\n",
       "      <td>1.000000</td>\n",
       "      <td>1.000000</td>\n",
       "      <td>0.040000</td>\n",
       "      <td>1.000000</td>\n",
       "      <td>0.000000</td>\n",
       "      <td>107.678244</td>\n",
       "      <td>0.000000</td>\n",
       "      <td>0.000000</td>\n",
       "      <td>0.000000</td>\n",
       "      <td>0.000000</td>\n",
       "      <td>0.000000</td>\n",
       "      <td>0.000000</td>\n",
       "      <td>0.000000</td>\n",
       "      <td>0.000000</td>\n",
       "    </tr>\n",
       "    <tr>\n",
       "      <th>50%</th>\n",
       "      <td>3.079553e+07</td>\n",
       "      <td>40.723075</td>\n",
       "      <td>-73.955680</td>\n",
       "      <td>106.000000</td>\n",
       "      <td>3.000000</td>\n",
       "      <td>5.000000</td>\n",
       "      <td>0.370000</td>\n",
       "      <td>1.000000</td>\n",
       "      <td>45.000000</td>\n",
       "      <td>143.802806</td>\n",
       "      <td>0.000000</td>\n",
       "      <td>0.000000</td>\n",
       "      <td>0.000000</td>\n",
       "      <td>0.000000</td>\n",
       "      <td>0.000000</td>\n",
       "      <td>1.000000</td>\n",
       "      <td>0.000000</td>\n",
       "      <td>0.000000</td>\n",
       "    </tr>\n",
       "    <tr>\n",
       "      <th>75%</th>\n",
       "      <td>1.074344e+08</td>\n",
       "      <td>40.763117</td>\n",
       "      <td>-73.936273</td>\n",
       "      <td>175.000000</td>\n",
       "      <td>5.000000</td>\n",
       "      <td>24.000000</td>\n",
       "      <td>1.580000</td>\n",
       "      <td>2.000000</td>\n",
       "      <td>227.000000</td>\n",
       "      <td>188.948276</td>\n",
       "      <td>0.000000</td>\n",
       "      <td>1.000000</td>\n",
       "      <td>1.000000</td>\n",
       "      <td>0.000000</td>\n",
       "      <td>0.000000</td>\n",
       "      <td>1.000000</td>\n",
       "      <td>1.000000</td>\n",
       "      <td>0.000000</td>\n",
       "    </tr>\n",
       "    <tr>\n",
       "      <th>max</th>\n",
       "      <td>2.743213e+08</td>\n",
       "      <td>40.913060</td>\n",
       "      <td>-73.712990</td>\n",
       "      <td>10000.000000</td>\n",
       "      <td>1250.000000</td>\n",
       "      <td>629.000000</td>\n",
       "      <td>58.500000</td>\n",
       "      <td>327.000000</td>\n",
       "      <td>365.000000</td>\n",
       "      <td>800.000000</td>\n",
       "      <td>1.000000</td>\n",
       "      <td>1.000000</td>\n",
       "      <td>1.000000</td>\n",
       "      <td>1.000000</td>\n",
       "      <td>1.000000</td>\n",
       "      <td>1.000000</td>\n",
       "      <td>1.000000</td>\n",
       "      <td>1.000000</td>\n",
       "    </tr>\n",
       "  </tbody>\n",
       "</table>\n",
       "</div>"
      ],
      "text/plain": [
       "            host_id      latitude     longitude         price  minimo_noites  \\\n",
       "count  4.889400e+04  48894.000000  48894.000000  48894.000000   48894.000000   \n",
       "mean   6.762139e+07     40.728951    -73.952169    152.720763       7.030085   \n",
       "std    7.861118e+07      0.054529      0.046157    240.156625      20.510741   \n",
       "min    2.438000e+03     40.499790    -74.244420      0.000000       1.000000   \n",
       "25%    7.822737e+06     40.690100    -73.983070     69.000000       1.000000   \n",
       "50%    3.079553e+07     40.723075    -73.955680    106.000000       3.000000   \n",
       "75%    1.074344e+08     40.763117    -73.936273    175.000000       5.000000   \n",
       "max    2.743213e+08     40.913060    -73.712990  10000.000000    1250.000000   \n",
       "\n",
       "       numero_de_reviews  reviews_por_mes  calculado_host_listings_count  \\\n",
       "count       48894.000000     48894.000000                   48894.000000   \n",
       "mean           23.274758         1.090928                       7.144005   \n",
       "std            44.550991         1.597294                      32.952855   \n",
       "min             0.000000         0.000000                       1.000000   \n",
       "25%             1.000000         0.040000                       1.000000   \n",
       "50%             5.000000         0.370000                       1.000000   \n",
       "75%            24.000000         1.580000                       2.000000   \n",
       "max           629.000000        58.500000                     327.000000   \n",
       "\n",
       "       disponibilidade_365  media_bairro  bairro_group__Bronx  \\\n",
       "count         48894.000000  48894.000000         48894.000000   \n",
       "mean            112.776169    152.720763             0.022314   \n",
       "std             131.618692     62.297599             0.147703   \n",
       "min               0.000000     47.333333             0.000000   \n",
       "25%               0.000000    107.678244             0.000000   \n",
       "50%              45.000000    143.802806             0.000000   \n",
       "75%             227.000000    188.948276             0.000000   \n",
       "max             365.000000    800.000000             1.000000   \n",
       "\n",
       "       bairro_group__Brooklyn  bairro_group__Manhattan  bairro_group__Queens  \\\n",
       "count            48894.000000             48894.000000          48894.000000   \n",
       "mean                 0.411155                 0.443020              0.115883   \n",
       "std                  0.492048                 0.496748              0.320088   \n",
       "min                  0.000000                 0.000000              0.000000   \n",
       "25%                  0.000000                 0.000000              0.000000   \n",
       "50%                  0.000000                 0.000000              0.000000   \n",
       "75%                  1.000000                 1.000000              0.000000   \n",
       "max                  1.000000                 1.000000              1.000000   \n",
       "\n",
       "       bairro_group__Staten Island  room_type__Entire home/apt  \\\n",
       "count                 48894.000000                48894.000000   \n",
       "mean                      0.007629                    0.519675   \n",
       "std                       0.087010                    0.499618   \n",
       "min                       0.000000                    0.000000   \n",
       "25%                       0.000000                    0.000000   \n",
       "50%                       0.000000                    1.000000   \n",
       "75%                       0.000000                    1.000000   \n",
       "max                       1.000000                    1.000000   \n",
       "\n",
       "       room_type__Private room  room_type__Shared room  \n",
       "count             48894.000000            48894.000000  \n",
       "mean                  0.456600                0.023725  \n",
       "std                   0.498118                0.152192  \n",
       "min                   0.000000                0.000000  \n",
       "25%                   0.000000                0.000000  \n",
       "50%                   0.000000                0.000000  \n",
       "75%                   1.000000                0.000000  \n",
       "max                   1.000000                1.000000  "
      ]
     },
     "execution_count": 23,
     "metadata": {},
     "output_type": "execute_result"
    }
   ],
   "source": [
    "data.describe()"
   ]
  },
  {
   "cell_type": "code",
   "execution_count": 24,
   "metadata": {},
   "outputs": [
    {
     "data": {
      "image/png": "[encoded data removed]",
      "text/plain": [
       "<Figure size 640x480 with 1 Axes>"
      ]
     },
     "metadata": {},
     "output_type": "display_data"
    },
    {
     "data": {
      "image/png": "[encoded data removed]",
      "text/plain": [
       "<Figure size 640x480 with 1 Axes>"
      ]
     },
     "metadata": {},
     "output_type": "display_data"
    }
   ],
   "source": [
    "sns.histplot(data['price'], bins=50, kde=True)\n",
    "plt.title('Distribuição do Preço')\n",
    "plt.show()\n",
    "\n",
    "sns.boxplot(x=data['price'])\n",
    "plt.title('Boxplot do Preço')\n",
    "plt.show()"
   ]
  },
  {
   "cell_type": "markdown",
   "metadata": {},
   "source": [
    "## A distribuição está muito irregular, com muitos dados proximos de 0\n",
    "\n",
    "Algumas abordagens podem ser aplicadas:\n",
    "* Transformação Logarítmica"
   ]
  },
  {
   "cell_type": "code",
   "execution_count": 25,
   "metadata": {},
   "outputs": [
    {
     "data": {
      "image/png": "[encoded data removed]",
      "text/plain": [
       "<Figure size 640x480 with 1 Axes>"
      ]
     },
     "metadata": {},
     "output_type": "display_data"
    }
   ],
   "source": [
    "data['price_log'] = np.log1p(data['price'])  # log(1 + price) para evitar log(0)\n",
    "\n",
    "# Para reverter para o valor original\n",
    "# data['price_reverted'] = np.expm1(data['price_log'])\n",
    "\n",
    "sns.histplot(data['price_log'], bins=50, kde=True)\n",
    "plt.title('Distribuição do Preço após Transformação Logarítmica')\n",
    "plt.show()\n"
   ]
  },
  {
   "cell_type": "code",
   "execution_count": 26,
   "metadata": {},
   "outputs": [
    {
     "data": {
      "image/png": "[encoded data removed]",
      "text/plain": [
       "<Figure size 640x480 with 1 Axes>"
      ]
     },
     "metadata": {},
     "output_type": "display_data"
    }
   ],
   "source": [
    "sns.boxplot(x=data['price_log'])\n",
    "plt.title('Boxplot do Preço')\n",
    "plt.show()"
   ]
  },
  {
   "cell_type": "markdown",
   "metadata": {},
   "source": [
    "# Criação do modelo e testes de acurácia e precisão"
   ]
  },
  {
   "cell_type": "code",
   "execution_count": 27,
   "metadata": {},
   "outputs": [
    {
     "data": {
      "text/html": [
       "<div>\n",
       "<style scoped>\n",
       "    .dataframe tbody tr th:only-of-type {\n",
       "        vertical-align: middle;\n",
       "    }\n",
       "\n",
       "    .dataframe tbody tr th {\n",
       "        vertical-align: top;\n",
       "    }\n",
       "\n",
       "    .dataframe thead th {\n",
       "        text-align: right;\n",
       "    }\n",
       "</style>\n",
       "<table border=\"1\" class=\"dataframe\">\n",
       "  <thead>\n",
       "    <tr style=\"text-align: right;\">\n",
       "      <th></th>\n",
       "      <th>host_id</th>\n",
       "      <th>latitude</th>\n",
       "      <th>longitude</th>\n",
       "      <th>price</th>\n",
       "      <th>minimo_noites</th>\n",
       "      <th>numero_de_reviews</th>\n",
       "      <th>reviews_por_mes</th>\n",
       "      <th>calculado_host_listings_count</th>\n",
       "      <th>disponibilidade_365</th>\n",
       "      <th>media_bairro</th>\n",
       "      <th>bairro_group__Bronx</th>\n",
       "      <th>bairro_group__Brooklyn</th>\n",
       "      <th>bairro_group__Manhattan</th>\n",
       "      <th>bairro_group__Queens</th>\n",
       "      <th>bairro_group__Staten Island</th>\n",
       "      <th>room_type__Entire home/apt</th>\n",
       "      <th>room_type__Private room</th>\n",
       "      <th>room_type__Shared room</th>\n",
       "      <th>price_log</th>\n",
       "    </tr>\n",
       "  </thead>\n",
       "  <tbody>\n",
       "    <tr>\n",
       "      <th>0</th>\n",
       "      <td>2845</td>\n",
       "      <td>40.75362</td>\n",
       "      <td>-73.98377</td>\n",
       "      <td>225</td>\n",
       "      <td>1</td>\n",
       "      <td>45</td>\n",
       "      <td>0.38</td>\n",
       "      <td>2</td>\n",
       "      <td>355</td>\n",
       "      <td>282.719094</td>\n",
       "      <td>0</td>\n",
       "      <td>0</td>\n",
       "      <td>1</td>\n",
       "      <td>0</td>\n",
       "      <td>0</td>\n",
       "      <td>1</td>\n",
       "      <td>0</td>\n",
       "      <td>0</td>\n",
       "      <td>5.420535</td>\n",
       "    </tr>\n",
       "    <tr>\n",
       "      <th>1</th>\n",
       "      <td>4632</td>\n",
       "      <td>40.80902</td>\n",
       "      <td>-73.94190</td>\n",
       "      <td>150</td>\n",
       "      <td>3</td>\n",
       "      <td>0</td>\n",
       "      <td>0.00</td>\n",
       "      <td>1</td>\n",
       "      <td>365</td>\n",
       "      <td>118.974041</td>\n",
       "      <td>0</td>\n",
       "      <td>0</td>\n",
       "      <td>1</td>\n",
       "      <td>0</td>\n",
       "      <td>0</td>\n",
       "      <td>0</td>\n",
       "      <td>1</td>\n",
       "      <td>0</td>\n",
       "      <td>5.017280</td>\n",
       "    </tr>\n",
       "    <tr>\n",
       "      <th>2</th>\n",
       "      <td>4869</td>\n",
       "      <td>40.68514</td>\n",
       "      <td>-73.95976</td>\n",
       "      <td>89</td>\n",
       "      <td>1</td>\n",
       "      <td>270</td>\n",
       "      <td>4.64</td>\n",
       "      <td>1</td>\n",
       "      <td>194</td>\n",
       "      <td>181.893357</td>\n",
       "      <td>0</td>\n",
       "      <td>1</td>\n",
       "      <td>0</td>\n",
       "      <td>0</td>\n",
       "      <td>0</td>\n",
       "      <td>1</td>\n",
       "      <td>0</td>\n",
       "      <td>0</td>\n",
       "      <td>4.499810</td>\n",
       "    </tr>\n",
       "  </tbody>\n",
       "</table>\n",
       "</div>"
      ],
      "text/plain": [
       "   host_id  latitude  longitude  price  minimo_noites  numero_de_reviews  \\\n",
       "0     2845  40.75362  -73.98377    225              1                 45   \n",
       "1     4632  40.80902  -73.94190    150              3                  0   \n",
       "2     4869  40.68514  -73.95976     89              1                270   \n",
       "\n",
       "   reviews_por_mes  calculado_host_listings_count  disponibilidade_365  \\\n",
       "0             0.38                              2                  355   \n",
       "1             0.00                              1                  365   \n",
       "2             4.64                              1                  194   \n",
       "\n",
       "   media_bairro  bairro_group__Bronx  bairro_group__Brooklyn  \\\n",
       "0    282.719094                    0                       0   \n",
       "1    118.974041                    0                       0   \n",
       "2    181.893357                    0                       1   \n",
       "\n",
       "   bairro_group__Manhattan  bairro_group__Queens  bairro_group__Staten Island  \\\n",
       "0                        1                     0                            0   \n",
       "1                        1                     0                            0   \n",
       "2                        0                     0                            0   \n",
       "\n",
       "   room_type__Entire home/apt  room_type__Private room  \\\n",
       "0                           1                        0   \n",
       "1                           0                        1   \n",
       "2                           1                        0   \n",
       "\n",
       "   room_type__Shared room  price_log  \n",
       "0                       0   5.420535  \n",
       "1                       0   5.017280  \n",
       "2                       0   4.499810  "
      ]
     },
     "execution_count": 27,
     "metadata": {},
     "output_type": "execute_result"
    }
   ],
   "source": [
    "data.head(3)"
   ]
  },
  {
   "cell_type": "markdown",
   "metadata": {},
   "source": [
    "## Como nosso objetivo é 1 variável alvo numérica e de predição, utilizaremos um modelo regressor"
   ]
  },
  {
   "cell_type": "code",
   "execution_count": 28,
   "metadata": {},
   "outputs": [],
   "source": [
    "x_data = data.drop(columns=['price','price_log'])\n",
    "y_data = data['price_log']\n",
    "\n",
    "x_train, x_test, y_train, y_test = train_test_split(x_data, y_data, test_size=0.3, random_state=42)\n"
   ]
  },
  {
   "cell_type": "markdown",
   "metadata": {},
   "source": [
    "### Regressão Linear"
   ]
  },
  {
   "cell_type": "code",
   "execution_count": 29,
   "metadata": {},
   "outputs": [
    {
     "name": "stdout",
     "output_type": "stream",
     "text": [
      "MAE: 0.34\n",
      "MSE: 0.22\n",
      "RMSE: 0.47\n",
      "R² Score: 0.54\n"
     ]
    }
   ],
   "source": [
    "model_linear = LinearRegression()\n",
    "model_linear.fit(x_train, y_train)\n",
    "\n",
    "y_pred = model_linear.predict(x_test)\n",
    "\n",
    "mae = mean_absolute_error(y_test, y_pred)\n",
    "mse = mean_squared_error(y_test, y_pred)\n",
    "rmse = np.sqrt(mse)  # Raiz do MSE\n",
    "r2 = r2_score(y_test, y_pred)\n",
    "\n",
    "# Exibindo os resultados\n",
    "print(f\"MAE: {mae:.2f}\")\n",
    "print(f\"MSE: {mse:.2f}\")\n",
    "print(f\"RMSE: {rmse:.2f}\")\n",
    "print(f\"R² Score: {r2:.2f}\")\n"
   ]
  },
  {
   "cell_type": "markdown",
   "metadata": {},
   "source": [
    "### Random Forest"
   ]
  },
  {
   "cell_type": "code",
   "execution_count": 30,
   "metadata": {},
   "outputs": [
    {
     "name": "stdout",
     "output_type": "stream",
     "text": [
      "MAE: 0.31\n",
      "MSE: 0.19\n",
      "RMSE: 0.43\n",
      "R² Score: 0.60\n"
     ]
    }
   ],
   "source": [
    "rf_model = RandomForestRegressor(n_estimators=100, random_state=42)\n",
    "rf_model.fit(x_train, y_train)\n",
    "\n",
    "y_pred = rf_model.predict(x_test)\n",
    "\n",
    "mae = mean_absolute_error(y_test, y_pred)\n",
    "mse = mean_squared_error(y_test, y_pred)\n",
    "rmse = np.sqrt(mse)\n",
    "r2 = r2_score(y_test, y_pred)\n",
    "\n",
    "print(f\"MAE: {mae:.2f}\")\n",
    "print(f\"MSE: {mse:.2f}\")\n",
    "print(f\"RMSE: {rmse:.2f}\")\n",
    "print(f\"R² Score: {r2:.2f}\")"
   ]
  },
  {
   "cell_type": "markdown",
   "metadata": {},
   "source": [
    "### XGboost"
   ]
  },
  {
   "cell_type": "code",
   "execution_count": 31,
   "metadata": {},
   "outputs": [
    {
     "name": "stdout",
     "output_type": "stream",
     "text": [
      "MAE: 0.31\n",
      "MSE: 0.18\n",
      "RMSE: 0.43\n",
      "R² Score: 0.61\n"
     ]
    }
   ],
   "source": [
    "x_train, x_test, y_train, y_test = train_test_split(x_data, y_data, test_size=0.3, random_state=42)\n",
    "\n",
    "xg_reg = xgb.XGBRegressor(objective='reg:squarederror', n_estimators=100, random_state=42)\n",
    "\n",
    "xg_reg.fit(x_train, y_train)\n",
    "\n",
    "y_pred = xg_reg.predict(x_test)\n",
    "\n",
    "mae = mean_absolute_error(y_test, y_pred)\n",
    "mse = mean_squared_error(y_test, y_pred)\n",
    "rmse = np.sqrt(mse)\n",
    "r2 = r2_score(y_test, y_pred)\n",
    "\n",
    "print(f\"MAE: {mae:.2f}\")\n",
    "print(f\"MSE: {mse:.2f}\")\n",
    "print(f\"RMSE: {rmse:.2f}\")\n",
    "print(f\"R² Score: {r2:.2f}\")"
   ]
  },
  {
   "cell_type": "markdown",
   "metadata": {},
   "source": [
    "# Nosso melhor modelo foi o XGBoost"
   ]
  },
  {
   "cell_type": "code",
   "execution_count": 32,
   "metadata": {},
   "outputs": [],
   "source": [
    "with open(\"../src/models/xg_reg_model.pkl\", \"wb\") as f:\n",
    "    pickle.dump(xg_reg, f)"
   ]
  },
  {
   "cell_type": "code",
   "execution_count": null,
   "metadata": {},
   "outputs": [],
   "source": []
  }
 ],
 "metadata": {
  "kernelspec": {
   "display_name": ".venv",
   "language": "python",
   "name": "python3"
  },
  "language_info": {
   "codemirror_mode": {
    "name": "ipython",
    "version": 3
   },
   "file_extension": ".py",
   "mimetype": "text/x-python",
   "name": "python",
   "nbconvert_exporter": "python",
   "pygments_lexer": "ipython3",
   "version": "3.12.1"
  }
 },
 "nbformat": 4,
 "nbformat_minor": 2
}
